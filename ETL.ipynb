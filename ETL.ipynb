{
 "cells": [
  {
   "cell_type": "code",
   "execution_count": 163,
   "id": "58aa74cd",
   "metadata": {},
   "outputs": [
    {
     "name": "stdout",
     "output_type": "stream",
     "text": [
      "Collecting supabaseNote: you may need to restart the kernel to use updated packages.\n",
      "\n",
      "  Downloading supabase-1.0.3-py3-none-any.whl (11 kB)\n",
      "Collecting postgrest<0.11.0,>=0.10.6\n",
      "  Downloading postgrest-0.10.6-py3-none-any.whl (18 kB)\n",
      "Collecting gotrue<2.0.0,>=1.0.1\n",
      "  Downloading gotrue-1.0.1-py3-none-any.whl (48 kB)\n",
      "     ---------------------------------------- 48.4/48.4 kB 1.2 MB/s eta 0:00:00\n",
      "Collecting httpx<0.24.0,>=0.23.0\n",
      "  Using cached httpx-0.23.3-py3-none-any.whl (71 kB)\n",
      "Collecting storage3<0.6.0,>=0.5.2\n",
      "  Downloading storage3-0.5.2-py3-none-any.whl (13 kB)\n",
      "Collecting supafunc<0.3.0,>=0.2.2\n",
      "  Downloading supafunc-0.2.2-py3-none-any.whl (2.8 kB)\n",
      "Collecting python-semantic-release==7.33.2\n",
      "  Downloading python_semantic_release-7.33.2-py3-none-any.whl (55 kB)\n",
      "     ---------------------------------------- 55.1/55.1 kB ? eta 0:00:00\n",
      "Collecting realtime<2.0.0,>=1.0.0\n",
      "  Downloading realtime-1.0.0-py3-none-any.whl (8.0 kB)\n",
      "Collecting click-log<1,>=0.3\n",
      "  Downloading click_log-0.4.0-py2.py3-none-any.whl (4.3 kB)\n",
      "Collecting invoke<2,>=1.4.1\n",
      "  Downloading invoke-1.7.3-py3-none-any.whl (216 kB)\n",
      "     -------------------------------------- 216.4/216.4 kB 2.2 MB/s eta 0:00:00\n",
      "Collecting dotty-dict<2,>=1.3.0\n",
      "  Downloading dotty_dict-1.3.1-py3-none-any.whl (7.0 kB)\n",
      "Collecting gitpython<4,>=3.0.8\n",
      "  Downloading GitPython-3.1.31-py3-none-any.whl (184 kB)\n",
      "     -------------------------------------- 184.3/184.3 kB 2.8 MB/s eta 0:00:00\n",
      "Collecting twine<4,>=3\n",
      "  Downloading twine-3.8.0-py3-none-any.whl (36 kB)\n",
      "Collecting semver<3,>=2.10\n",
      "  Downloading semver-2.13.0-py2.py3-none-any.whl (12 kB)\n",
      "Collecting python-gitlab<4,>=2\n",
      "  Downloading python_gitlab-3.14.0-py3-none-any.whl (135 kB)\n",
      "     -------------------------------------- 135.8/135.8 kB 4.1 MB/s eta 0:00:00\n",
      "Requirement already satisfied: requests<3,>=2.25 in c:\\users\\tanveerahmadhh\\appdata\\local\\anaconda3\\lib\\site-packages (from python-semantic-release==7.33.2->supabase) (2.28.1)\n",
      "Requirement already satisfied: tomlkit~=0.10 in c:\\users\\tanveerahmadhh\\appdata\\local\\anaconda3\\lib\\site-packages (from python-semantic-release==7.33.2->supabase) (0.11.1)\n",
      "Requirement already satisfied: click<9,>=7 in c:\\users\\tanveerahmadhh\\appdata\\local\\anaconda3\\lib\\site-packages (from python-semantic-release==7.33.2->supabase) (8.0.4)\n",
      "Requirement already satisfied: wheel in c:\\users\\tanveerahmadhh\\appdata\\local\\anaconda3\\lib\\site-packages (from python-semantic-release==7.33.2->supabase) (0.38.4)\n",
      "Requirement already satisfied: packaging in c:\\users\\tanveerahmadhh\\appdata\\local\\anaconda3\\lib\\site-packages (from python-semantic-release==7.33.2->supabase) (22.0)\n",
      "Collecting pydantic<2.0.0,>=1.10.0\n",
      "  Downloading pydantic-1.10.8-cp310-cp310-win_amd64.whl (2.1 MB)\n",
      "     ---------------------------------------- 2.1/2.1 MB 5.9 MB/s eta 0:00:00\n",
      "Collecting httpcore<0.17.0,>=0.15.0\n",
      "  Using cached httpcore-0.16.3-py3-none-any.whl (69 kB)\n",
      "Requirement already satisfied: certifi in c:\\users\\tanveerahmadhh\\appdata\\local\\anaconda3\\lib\\site-packages (from httpx<0.24.0,>=0.23.0->supabase) (2022.12.7)\n",
      "Collecting rfc3986[idna2008]<2,>=1.3\n",
      "  Using cached rfc3986-1.5.0-py2.py3-none-any.whl (31 kB)\n",
      "Requirement already satisfied: sniffio in c:\\users\\tanveerahmadhh\\appdata\\local\\anaconda3\\lib\\site-packages (from httpx<0.24.0,>=0.23.0->supabase) (1.2.0)\n",
      "Collecting strenum<0.5.0,>=0.4.9\n",
      "  Downloading StrEnum-0.4.10-py3-none-any.whl (7.7 kB)\n",
      "Collecting deprecation<3.0.0,>=2.1.0\n",
      "  Downloading deprecation-2.1.0-py2.py3-none-any.whl (11 kB)\n",
      "Collecting websockets<11.0,>=10.3\n",
      "  Downloading websockets-10.4-cp310-cp310-win_amd64.whl (101 kB)\n",
      "     -------------------------------------- 101.4/101.4 kB 5.7 MB/s eta 0:00:00\n",
      "Requirement already satisfied: python-dateutil<3.0.0,>=2.8.1 in c:\\users\\tanveerahmadhh\\appdata\\local\\anaconda3\\lib\\site-packages (from realtime<2.0.0,>=1.0.0->supabase) (2.8.2)\n",
      "Requirement already satisfied: typing-extensions<5.0.0,>=4.2.0 in c:\\users\\tanveerahmadhh\\appdata\\local\\anaconda3\\lib\\site-packages (from realtime<2.0.0,>=1.0.0->supabase) (4.4.0)\n",
      "Requirement already satisfied: colorama in c:\\users\\tanveerahmadhh\\appdata\\local\\anaconda3\\lib\\site-packages (from click<9,>=7->python-semantic-release==7.33.2->supabase) (0.4.6)\n",
      "Collecting gitdb<5,>=4.0.1\n",
      "  Downloading gitdb-4.0.10-py3-none-any.whl (62 kB)\n",
      "     ---------------------------------------- 62.7/62.7 kB 1.7 MB/s eta 0:00:00\n",
      "Requirement already satisfied: anyio<5.0,>=3.0 in c:\\users\\tanveerahmadhh\\appdata\\local\\anaconda3\\lib\\site-packages (from httpcore<0.17.0,>=0.15.0->httpx<0.24.0,>=0.23.0->supabase) (3.5.0)\n",
      "Collecting h11<0.15,>=0.13\n",
      "  Using cached h11-0.14.0-py3-none-any.whl (58 kB)\n",
      "Requirement already satisfied: six>=1.5 in c:\\users\\tanveerahmadhh\\appdata\\local\\anaconda3\\lib\\site-packages (from python-dateutil<3.0.0,>=2.8.1->realtime<2.0.0,>=1.0.0->supabase) (1.16.0)\n",
      "Collecting requests-toolbelt>=0.10.1\n",
      "  Downloading requests_toolbelt-1.0.0-py2.py3-none-any.whl (54 kB)\n",
      "     ---------------------------------------- 54.5/54.5 kB 2.8 MB/s eta 0:00:00\n",
      "Requirement already satisfied: charset-normalizer<3,>=2 in c:\\users\\tanveerahmadhh\\appdata\\local\\anaconda3\\lib\\site-packages (from requests<3,>=2.25->python-semantic-release==7.33.2->supabase) (2.0.4)\n",
      "Requirement already satisfied: idna<4,>=2.5 in c:\\users\\tanveerahmadhh\\appdata\\local\\anaconda3\\lib\\site-packages (from requests<3,>=2.25->python-semantic-release==7.33.2->supabase) (3.4)\n",
      "Requirement already satisfied: urllib3<1.27,>=1.21.1 in c:\\users\\tanveerahmadhh\\appdata\\local\\anaconda3\\lib\\site-packages (from requests<3,>=2.25->python-semantic-release==7.33.2->supabase) (1.26.14)\n",
      "Collecting readme-renderer>=21.0\n",
      "  Downloading readme_renderer-37.3-py3-none-any.whl (14 kB)\n",
      "Requirement already satisfied: tqdm>=4.14 in c:\\users\\tanveerahmadhh\\appdata\\local\\anaconda3\\lib\\site-packages (from twine<4,>=3->python-semantic-release==7.33.2->supabase) (4.64.1)\n",
      "Requirement already satisfied: pkginfo>=1.8.1 in c:\\users\\tanveerahmadhh\\appdata\\local\\anaconda3\\lib\\site-packages (from twine<4,>=3->python-semantic-release==7.33.2->supabase) (1.8.3)\n",
      "Requirement already satisfied: keyring>=15.1 in c:\\users\\tanveerahmadhh\\appdata\\local\\anaconda3\\lib\\site-packages (from twine<4,>=3->python-semantic-release==7.33.2->supabase) (23.4.0)\n",
      "Requirement already satisfied: importlib-metadata>=3.6 in c:\\users\\tanveerahmadhh\\appdata\\local\\anaconda3\\lib\\site-packages (from twine<4,>=3->python-semantic-release==7.33.2->supabase) (4.11.3)\n",
      "Collecting smmap<6,>=3.0.1\n",
      "  Downloading smmap-5.0.0-py3-none-any.whl (24 kB)\n",
      "Requirement already satisfied: zipp>=0.5 in c:\\users\\tanveerahmadhh\\appdata\\local\\anaconda3\\lib\\site-packages (from importlib-metadata>=3.6->twine<4,>=3->python-semantic-release==7.33.2->supabase) (3.11.0)\n",
      "Requirement already satisfied: pywin32-ctypes!=0.1.0,!=0.1.1 in c:\\users\\tanveerahmadhh\\appdata\\local\\anaconda3\\lib\\site-packages (from keyring>=15.1->twine<4,>=3->python-semantic-release==7.33.2->supabase) (0.2.0)\n",
      "Requirement already satisfied: bleach>=2.1.0 in c:\\users\\tanveerahmadhh\\appdata\\local\\anaconda3\\lib\\site-packages (from readme-renderer>=21.0->twine<4,>=3->python-semantic-release==7.33.2->supabase) (4.1.0)\n",
      "Requirement already satisfied: docutils>=0.13.1 in c:\\users\\tanveerahmadhh\\appdata\\local\\anaconda3\\lib\\site-packages (from readme-renderer>=21.0->twine<4,>=3->python-semantic-release==7.33.2->supabase) (0.18.1)\n",
      "Requirement already satisfied: Pygments>=2.5.1 in c:\\users\\tanveerahmadhh\\appdata\\local\\anaconda3\\lib\\site-packages (from readme-renderer>=21.0->twine<4,>=3->python-semantic-release==7.33.2->supabase) (2.11.2)\n",
      "Requirement already satisfied: webencodings in c:\\users\\tanveerahmadhh\\appdata\\local\\anaconda3\\lib\\site-packages (from bleach>=2.1.0->readme-renderer>=21.0->twine<4,>=3->python-semantic-release==7.33.2->supabase) (0.5.1)\n",
      "Installing collected packages: strenum, rfc3986, invoke, websockets, smmap, semver, pydantic, h11, dotty-dict, deprecation, requests-toolbelt, realtime, readme-renderer, httpcore, gitdb, click-log, twine, python-gitlab, httpx, gitpython, supafunc, storage3, python-semantic-release, postgrest, gotrue, supabase\n",
      "Successfully installed click-log-0.4.0 deprecation-2.1.0 dotty-dict-1.3.1 gitdb-4.0.10 gitpython-3.1.31 gotrue-1.0.1 h11-0.14.0 httpcore-0.16.3 httpx-0.23.3 invoke-1.7.3 postgrest-0.10.6 pydantic-1.10.8 python-gitlab-3.14.0 python-semantic-release-7.33.2 readme-renderer-37.3 realtime-1.0.0 requests-toolbelt-1.0.0 rfc3986-1.5.0 semver-2.13.0 smmap-5.0.0 storage3-0.5.2 strenum-0.4.10 supabase-1.0.3 supafunc-0.2.2 twine-3.8.0 websockets-10.4\n"
     ]
    }
   ],
   "source": [
    "#pip install supabase"
   ]
  },
  {
   "cell_type": "code",
   "execution_count": 258,
   "id": "de344258",
   "metadata": {},
   "outputs": [],
   "source": [
    "import requests\n",
    "from datetime import date\n",
    "import datetime\n",
    "from supabase import create_client, Client"
   ]
  },
  {
   "cell_type": "code",
   "execution_count": 265,
   "id": "864944a0",
   "metadata": {},
   "outputs": [],
   "source": [
    "#Supabase connection strings\n",
    "url=\"o\"\n",
    "key=\"\"\n",
    "\n",
    "supabase_conn= create_client(url, key)"
   ]
  },
  {
   "cell_type": "code",
   "execution_count": 252,
   "id": "b06a4724",
   "metadata": {},
   "outputs": [],
   "source": [
    "import logging\n",
    "logger = logging.getLogger()\n",
    "loghandler = logging.FileHandler(filename='StockAnalysis_log.log', mode='a')\n",
    "logger.addHandler(loghandler)\n"
   ]
  },
  {
   "cell_type": "code",
   "execution_count": 253,
   "id": "2a446e1b",
   "metadata": {},
   "outputs": [
    {
     "name": "stderr",
     "output_type": "stream",
     "text": [
      "2023-05-26 21:36:38,501:INFO - Logs for Stock Analysis ETL Process\n"
     ]
    }
   ],
   "source": [
    "#logging.info('Logs for Stock Analysis ETL Process')"
   ]
  },
  {
   "cell_type": "code",
   "execution_count": 261,
   "id": "2ee6b67e",
   "metadata": {},
   "outputs": [
    {
     "name": "stdout",
     "output_type": "stream",
     "text": [
      "Today's date: 2023-05-27\n"
     ]
    }
   ],
   "source": [
    "today = date.today()\n",
    "#today=today-datetime.timedelta(days=11)\n",
    "print(\"Today's date:\", today)"
   ]
  },
  {
   "cell_type": "code",
   "execution_count": 262,
   "id": "b0394df5",
   "metadata": {},
   "outputs": [
    {
     "name": "stdout",
     "output_type": "stream",
     "text": [
      "{\r\n",
      "\"working_day\":1,\r\n",
      "\"work_hours\":8,\r\n",
      "\"wages\":160,\r\n",
      "\"morning_start\":\"08:00\",\r\n",
      "\"morning_end\":\"12:00\",\r\n",
      "\"afternoon_start\":\"14:00\",\r\n",
      "\"afternoon_end\":\"18:00\",\r\n",
      "\"public_holiday\":\"0\",\r\n",
      "\"public_holiday_description\":\"\",\r\n",
      "\"weekend_day\":0,\r\n",
      "\"custom_date\":0,\r\n",
      "\"custom_date_description\":\"\",\r\n",
      "\"custom_date_color\":\"\",\r\n",
      "\"type\":32\r\n",
      "}\n"
     ]
    }
   ],
   "source": [
    "\n",
    "url_day = \"https://working-days.p.rapidapi.com/1.3/get_info_day\"\n",
    "\n",
    "querystring = {\"country_code\":\"US\",\"date\":today-datetime.timedelta(days=1),\"configuration\":\"Federal holidays\"}\n",
    "\n",
    "headers = {\n",
    "\t\"X-RapidAPI-Key\": \"\",\n",
    "\t\"X-RapidAPI-Host\": \"working-days.p.rapidapi.com\"\n",
    "}\n",
    "\n",
    "response = requests.request(\"GET\", url_day, headers=headers, params=querystring)\n",
    "\n",
    "print(response.text)"
   ]
  },
  {
   "cell_type": "code",
   "execution_count": 266,
   "id": "5a4a113d",
   "metadata": {},
   "outputs": [
    {
     "name": "stderr",
     "output_type": "stream",
     "text": [
      "2023-05-27 10:19:46,336:INFO - Extract Operation for2023-05-26\n"
     ]
    },
    {
     "name": "stdout",
     "output_type": "stream",
     "text": [
      "1 Yesterday's date: 2023-05-26\n"
     ]
    },
    {
     "name": "stderr",
     "output_type": "stream",
     "text": [
      "2023-05-27 10:19:48,250:INFO - Transformted Data:SMA -127.110LMA -126.295\n"
     ]
    },
    {
     "name": "stdout",
     "output_type": "stream",
     "text": [
      "SMA -: 127.110 LMA -: 126.295\n"
     ]
    },
    {
     "name": "stderr",
     "output_type": "stream",
     "text": [
      "2023-05-27 10:19:49,663:INFO - Load operation output:data=[{'Date': '2023-05-26', 'SMA': 127.11, 'LMA': 126.295, 'created_at': '2023-05-27T04:49:50.296655+00:00'}] count=None\n"
     ]
    },
    {
     "name": "stdout",
     "output_type": "stream",
     "text": [
      "data=[{'Date': '2023-05-26', 'SMA': 127.11, 'LMA': 126.295, 'created_at': '2023-05-27T04:49:50.296655+00:00'}] count=None\n"
     ]
    }
   ],
   "source": [
    "today = date.today()\n",
    "yesterday=today-datetime.timedelta(days=1)\n",
    "print(d, \"Yesterday's date:\", yesterday)\n",
    "\n",
    "if (response.json()['working_day']==1) :\n",
    "\n",
    "    logging.info('Extract Operation for'+str(yesterday))\n",
    "\n",
    "    url='https://www.alphavantage.co/query?function=TIME_SERIES_DAILY_ADJUSTED&symbol=IBM&apikey=ODSLP5A1Z79WG98U&outputsize=compact'\n",
    "    r = requests.get(url)\n",
    "    data = r.json()\n",
    "\n",
    "    #print(data)\n",
    "\n",
    "    SMA_nValue= 3\n",
    "    LMA_nValue=10\n",
    "    leaveDays=0\n",
    "    SMA=0\n",
    "    LMA=0\n",
    "    Sum=0\n",
    "    i=0;\n",
    "    \n",
    "    while(LMA_nValue+leaveDays>i):\n",
    "        if ( (yesterday-datetime.timedelta(days=i)).strftime('%Y-%m-%d')) in data['Time Series (Daily)'] :\n",
    "            #print( (yesterday-datetime.timedelta(days=i)).strftime('%Y-%m-%d') ,\" -- \",data['Time Series (Daily)'][ (yesterday-datetime.timedelta(days=i) ).strftime('%Y-%m-%d')]['4. close'],\"--working\")\n",
    "            Sum+=float(data['Time Series (Daily)'][ (yesterday-datetime.timedelta(days=i) ).strftime('%Y-%m-%d')]['4. close'])\n",
    "            if i == SMA_nValue+leaveDays-1:\n",
    "                SMA='%.3f'% (Sum/SMA_nValue)\n",
    "\n",
    "            if i == LMA_nValue+leaveDays-1:\n",
    "                LMA='%.3f'% (Sum/LMA_nValue)\n",
    "        else:\n",
    "            #print(i,\"-- Leave\")\n",
    "            leaveDays+=1;\n",
    "        i+=1;\n",
    "\n",
    "    print(\"SMA -:\", SMA,\"LMA -:\", LMA)\n",
    "    logging.info('Transformted Data:'+\"SMA -\"+str(SMA)+\"LMA -\"+str(LMA))\n",
    "\n",
    "    value={'Date':(yesterday).strftime('%Y-%m-%d'),'SMA':SMA,'LMA':LMA}\n",
    "    op=supabase_conn.table('StockAnalysis').insert([value]).execute()\n",
    "    logging.info('Load operation output:'+str(op))\n",
    "    print(op)\n",
    "\n",
    "else:\n",
    "    logging.info('Holiday -'+str(yesterday))"
   ]
  },
  {
   "cell_type": "code",
   "execution_count": null,
   "id": "8d2ae062",
   "metadata": {},
   "outputs": [],
   "source": []
  }
 ],
 "metadata": {
  "kernelspec": {
   "display_name": "Python 3 (ipykernel)",
   "language": "python",
   "name": "python3"
  },
  "language_info": {
   "codemirror_mode": {
    "name": "ipython",
    "version": 3
   },
   "file_extension": ".py",
   "mimetype": "text/x-python",
   "name": "python",
   "nbconvert_exporter": "python",
   "pygments_lexer": "ipython3",
   "version": "3.10.9"
  }
 },
 "nbformat": 4,
 "nbformat_minor": 5
}
